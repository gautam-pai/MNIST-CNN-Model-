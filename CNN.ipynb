{
  "nbformat": 4,
  "nbformat_minor": 0,
  "metadata": {
    "colab": {
      "provenance": [],
      "authorship_tag": "ABX9TyOYMFEERMUT8NU7nQUxEoS5"
    },
    "kernelspec": {
      "name": "python3",
      "display_name": "Python 3"
    },
    "language_info": {
      "name": "python"
    }
  },
  "cells": [
    {
      "cell_type": "markdown",
      "source": [
        "## Import libraries"
      ],
      "metadata": {
        "id": "zzX5OTqAoTil"
      }
    },
    {
      "cell_type": "code",
      "execution_count": 1,
      "metadata": {
        "id": "OqAqRcPjn8b3"
      },
      "outputs": [],
      "source": [
        "import pandas as pd\n",
        "import numpy as np\n",
        "import torch\n",
        "import torch.nn as nn\n",
        "from torchvision import datasets,transforms\n",
        "from torch.utils.data import DataLoader\n",
        "import time\n",
        "import torch.nn.functional as F\n",
        "\n",
        "\n",
        "from torchviz import make_dot\n",
        "from torchsummary import summary\n",
        "import torch.onnx\n",
        "\n",
        "import matplotlib.pyplot as plt\n",
        "%matplotlib inline"
      ]
    },
    {
      "cell_type": "markdown",
      "source": [
        "## Import datasets"
      ],
      "metadata": {
        "id": "kK2Om1oeoYkT"
      }
    },
    {
      "cell_type": "code",
      "source": [
        "train_data=datasets.MNIST(root='./data',train=True,transform=transforms.ToTensor(),download=True)\n",
        "test_data=datasets.MNIST(root='./data',train=False,transform=transforms.ToTensor(),download=True)"
      ],
      "metadata": {
        "id": "UAAAp2mEoRnY"
      },
      "execution_count": 2,
      "outputs": []
    },
    {
      "cell_type": "code",
      "source": [
        "train_data"
      ],
      "metadata": {
        "colab": {
          "base_uri": "https://localhost:8080/"
        },
        "id": "NTpOpxb-o7lF",
        "outputId": "c334fb9c-4a1a-417a-b4b4-d4e53dcaaec0"
      },
      "execution_count": 3,
      "outputs": [
        {
          "output_type": "execute_result",
          "data": {
            "text/plain": [
              "Dataset MNIST\n",
              "    Number of datapoints: 60000\n",
              "    Root location: ./data\n",
              "    Split: Train\n",
              "    StandardTransform\n",
              "Transform: ToTensor()"
            ]
          },
          "metadata": {},
          "execution_count": 3
        }
      ]
    },
    {
      "cell_type": "code",
      "source": [
        "test_data"
      ],
      "metadata": {
        "colab": {
          "base_uri": "https://localhost:8080/"
        },
        "id": "0CBgeSi2o-vm",
        "outputId": "e336ec98-52f1-4b9b-e109-29d18c5f4ecf"
      },
      "execution_count": 4,
      "outputs": [
        {
          "output_type": "execute_result",
          "data": {
            "text/plain": [
              "Dataset MNIST\n",
              "    Number of datapoints: 10000\n",
              "    Root location: ./data\n",
              "    Split: Test\n",
              "    StandardTransform\n",
              "Transform: ToTensor()"
            ]
          },
          "metadata": {},
          "execution_count": 4
        }
      ]
    },
    {
      "cell_type": "code",
      "source": [
        "train_loader=DataLoader(dataset=train_data,batch_size=60,shuffle=True)\n",
        "test_loader=DataLoader(dataset=test_data,batch_size=10,shuffle=True)"
      ],
      "metadata": {
        "id": "pe7-WY4ko_7-"
      },
      "execution_count": 5,
      "outputs": []
    },
    {
      "cell_type": "code",
      "source": [
        "train_data[0][0].shape"
      ],
      "metadata": {
        "colab": {
          "base_uri": "https://localhost:8080/"
        },
        "id": "SV9PiB4OqgLq",
        "outputId": "53dc9592-0024-42f2-9a4f-4c092c542c52"
      },
      "execution_count": 6,
      "outputs": [
        {
          "output_type": "execute_result",
          "data": {
            "text/plain": [
              "torch.Size([1, 28, 28])"
            ]
          },
          "metadata": {},
          "execution_count": 6
        }
      ]
    },
    {
      "cell_type": "markdown",
      "source": [
        "## Model Definition"
      ],
      "metadata": {
        "id": "Lu6hivZ1uEZm"
      }
    },
    {
      "cell_type": "markdown",
      "source": [
        "\n",
        "\n",
        "```\n",
        "1.  Convolutional layer (3x3 kernel, 32 filters, ReLU activation)\n",
        "2.  Max pooling layer (2x2)\n",
        "3.  Convolutional layer (3x3 kernel, 64 filters, ReLU activation)\n",
        "4.  Max pooling layer (2x2)\n",
        "5.  Flatten\n",
        "6.  Fully connected layer (128 neurons, ReLU activation)\n",
        "7.  Output layer (softmax activation)\n",
        "```\n",
        "\n"
      ],
      "metadata": {
        "id": "vrabmWdcuMGF"
      }
    },
    {
      "cell_type": "code",
      "source": [
        "class Classifier(nn.Module):\n",
        "  def __init__(self):\n",
        "    super().__init__()\n",
        "    ## Convolution Layers\n",
        "    self.conv1=nn.Conv2d(in_channels=1,out_channels=32,kernel_size=3,stride=1)\n",
        "    self.conv2=nn.Conv2d(in_channels=32,out_channels=64,kernel_size=3,stride=1)\n",
        "    ## MaxPooling\n",
        "    self.maxpool1=nn.MaxPool2d(kernel_size=2)\n",
        "    self.maxpool2=nn.MaxPool2d(kernel_size=2)\n",
        "    ## Fully Connected Layer\n",
        "    self.fc1=nn.Linear(in_features=5*5*64,out_features=128)\n",
        "    self.fc2=nn.Linear(in_features=128,out_features=10)\n",
        "  def forward(self,X):\n",
        "    X=F.relu(self.conv1(X))\n",
        "    X=self.maxpool1(X)\n",
        "    X=F.relu(self.conv2(X))\n",
        "    X=self.maxpool2(X)\n",
        "    X=torch.flatten(X,start_dim=1)\n",
        "    X=F.relu(self.fc1(X))\n",
        "    X=self.fc2(X)\n",
        "    return X\n"
      ],
      "metadata": {
        "id": "W7rhlUaCsi5P"
      },
      "execution_count": 7,
      "outputs": []
    },
    {
      "cell_type": "code",
      "source": [
        "model=Classifier()"
      ],
      "metadata": {
        "id": "i-VOx6O1stCz"
      },
      "execution_count": 8,
      "outputs": []
    },
    {
      "cell_type": "code",
      "source": [
        "model"
      ],
      "metadata": {
        "colab": {
          "base_uri": "https://localhost:8080/"
        },
        "id": "7hHF6u-q13IZ",
        "outputId": "87dcc792-ff72-4335-fe7b-87852460b990"
      },
      "execution_count": 9,
      "outputs": [
        {
          "output_type": "execute_result",
          "data": {
            "text/plain": [
              "Classifier(\n",
              "  (conv1): Conv2d(1, 32, kernel_size=(3, 3), stride=(1, 1))\n",
              "  (conv2): Conv2d(32, 64, kernel_size=(3, 3), stride=(1, 1))\n",
              "  (maxpool1): MaxPool2d(kernel_size=2, stride=2, padding=0, dilation=1, ceil_mode=False)\n",
              "  (maxpool2): MaxPool2d(kernel_size=2, stride=2, padding=0, dilation=1, ceil_mode=False)\n",
              "  (fc1): Linear(in_features=1600, out_features=128, bias=True)\n",
              "  (fc2): Linear(in_features=128, out_features=10, bias=True)\n",
              ")"
            ]
          },
          "metadata": {},
          "execution_count": 9
        }
      ]
    },
    {
      "cell_type": "markdown",
      "source": [
        "## Setting other parameters"
      ],
      "metadata": {
        "id": "ZRujjydhzcKC"
      }
    },
    {
      "cell_type": "code",
      "source": [
        "learningRate=0.005\n",
        "epochs=10"
      ],
      "metadata": {
        "id": "QZMgM6cH0DTp"
      },
      "execution_count": 10,
      "outputs": []
    },
    {
      "cell_type": "code",
      "source": [
        "optimizer=torch.optim.Adam(params=model.parameters(),lr=learningRate)\n",
        "criterion=nn.CrossEntropyLoss()"
      ],
      "metadata": {
        "id": "KVJwAvnSzivY"
      },
      "execution_count": 11,
      "outputs": []
    },
    {
      "cell_type": "markdown",
      "source": [
        "## Training the model"
      ],
      "metadata": {
        "id": "g_1LpeW2zXhz"
      }
    },
    {
      "cell_type": "code",
      "source": [
        "start=time.time()\n",
        "train_losses=[]\n",
        "test_losses=[]\n",
        "train_correct=[]\n",
        "test_correct=[]\n",
        "\n",
        "for i in range(epochs):\n",
        "  trn_corr=0\n",
        "  for batch,(Train_Data,Train_Label) in enumerate(train_loader):\n",
        "    y_pred=model(Train_Data)\n",
        "    loss=criterion(y_pred,Train_Label)\n",
        "\n",
        "    predicted=torch.max(y_pred.data,1)[1]\n",
        "    batch_corr=(predicted==Train_Label).sum().item()\n",
        "    trn_corr+=batch_corr\n",
        "\n",
        "    optimizer.zero_grad()\n",
        "    loss.backward()\n",
        "    optimizer.step()\n",
        "\n",
        "\n",
        "  print(f\"Epoch: {i+1}  Loss:{loss.item()}\")\n",
        "  train_losses.append(loss.item())\n",
        "  train_correct.append(trn_corr)\n",
        "\n",
        "  tst_corr=0\n",
        "  with torch.no_grad():\n",
        "    for b,(Test_Data,Test_Label) in enumerate(test_loader):\n",
        "      y_val=model(Test_Data)\n",
        "      predicted=torch.max(y_val.data,1)[1]\n",
        "      tst_corr+=(predicted==Test_Label).sum().item()\n",
        "    loss=criterion(y_val,Test_Label)\n",
        "    test_losses.append(loss.item())\n",
        "    test_correct.append(tst_corr)\n",
        "current=time.time()\n",
        "print((current-start),\" Mins\")\n",
        "\n",
        "\n"
      ],
      "metadata": {
        "colab": {
          "base_uri": "https://localhost:8080/"
        },
        "id": "SWBxsD2FzWS9",
        "outputId": "154efcfa-2268-4ae4-bb35-db68a7b707fe"
      },
      "execution_count": 12,
      "outputs": [
        {
          "output_type": "stream",
          "name": "stdout",
          "text": [
            "Epoch: 1  Loss:0.012321139685809612\n",
            "Epoch: 2  Loss:0.02842140570282936\n",
            "Epoch: 3  Loss:0.025459639728069305\n",
            "Epoch: 4  Loss:0.11338937282562256\n",
            "Epoch: 5  Loss:0.013318871147930622\n",
            "Epoch: 6  Loss:0.012428767047822475\n",
            "Epoch: 7  Loss:0.003358184127137065\n",
            "Epoch: 8  Loss:0.006518963258713484\n",
            "Epoch: 9  Loss:0.00020152839715592563\n",
            "Epoch: 10  Loss:0.01781245693564415\n",
            "659.8042764663696  Mins\n"
          ]
        }
      ]
    },
    {
      "cell_type": "code",
      "source": [
        "train_correct"
      ],
      "metadata": {
        "colab": {
          "base_uri": "https://localhost:8080/"
        },
        "id": "XaCc4o_UNQ_e",
        "outputId": "b1c7109f-ced5-45c2-f39a-f2d7fac22f3d"
      },
      "execution_count": 13,
      "outputs": [
        {
          "output_type": "execute_result",
          "data": {
            "text/plain": [
              "[57007, 58946, 59178, 59304, 59399, 59428, 59493, 59503, 59600, 59602]"
            ]
          },
          "metadata": {},
          "execution_count": 13
        }
      ]
    },
    {
      "cell_type": "code",
      "source": [
        "test_correct"
      ],
      "metadata": {
        "colab": {
          "base_uri": "https://localhost:8080/"
        },
        "id": "2WVC7ySJNQ73",
        "outputId": "6a27bacf-bf29-4be9-a87e-8c41dadbb4af"
      },
      "execution_count": 14,
      "outputs": [
        {
          "output_type": "execute_result",
          "data": {
            "text/plain": [
              "[9839, 9859, 9827, 9882, 9866, 9842, 9844, 9872, 9851, 9862]"
            ]
          },
          "metadata": {},
          "execution_count": 14
        }
      ]
    },
    {
      "cell_type": "code",
      "source": [
        "train_losses"
      ],
      "metadata": {
        "colab": {
          "base_uri": "https://localhost:8080/"
        },
        "id": "-025aZa3NQ4L",
        "outputId": "385f2b89-3d25-4d14-c5aa-f2c609703fc9"
      },
      "execution_count": 15,
      "outputs": [
        {
          "output_type": "execute_result",
          "data": {
            "text/plain": [
              "[0.012321139685809612,\n",
              " 0.02842140570282936,\n",
              " 0.025459639728069305,\n",
              " 0.11338937282562256,\n",
              " 0.013318871147930622,\n",
              " 0.012428767047822475,\n",
              " 0.003358184127137065,\n",
              " 0.006518963258713484,\n",
              " 0.00020152839715592563,\n",
              " 0.01781245693564415]"
            ]
          },
          "metadata": {},
          "execution_count": 15
        }
      ]
    },
    {
      "cell_type": "code",
      "source": [
        "test_losses"
      ],
      "metadata": {
        "colab": {
          "base_uri": "https://localhost:8080/"
        },
        "id": "PrCpjH-XNQ1L",
        "outputId": "c060ebf6-65f2-4fe2-e19a-f780509fd4f5"
      },
      "execution_count": 16,
      "outputs": [
        {
          "output_type": "execute_result",
          "data": {
            "text/plain": [
              "[0.0008116980898194015,\n",
              " 0.001093346276320517,\n",
              " 0.11839612573385239,\n",
              " 9.548976959194988e-05,\n",
              " 0.13588355481624603,\n",
              " 0.0005226907669566572,\n",
              " 0.0002666490036062896,\n",
              " 0.00037297539529390633,\n",
              " 0.0008188188076019287,\n",
              " 1.192092824453539e-08]"
            ]
          },
          "metadata": {},
          "execution_count": 16
        }
      ]
    },
    {
      "cell_type": "code",
      "source": [
        "train_accuracy=[t/len(train_data) for t in train_correct]\n",
        "test_accuracy=[t/len(test_data) for t in test_correct]"
      ],
      "metadata": {
        "id": "cCdba67DN22k"
      },
      "execution_count": 17,
      "outputs": []
    },
    {
      "cell_type": "code",
      "source": [
        "## Accuracy\n",
        "plt.plot(train_accuracy,label=\"Training Accuracy\")\n",
        "plt.plot(test_accuracy,label=\"Testing Accuracy\")\n",
        "plt.legend()\n",
        "plt.title(\"Accuracy over Epochs\")\n",
        "plt.savefig(\"Accuracy\")"
      ],
      "metadata": {
        "colab": {
          "base_uri": "https://localhost:8080/",
          "height": 452
        },
        "id": "in4aY62mOZlr",
        "outputId": "b2744803-f945-4432-bf12-24e75e61db8a"
      },
      "execution_count": 18,
      "outputs": [
        {
          "output_type": "display_data",
          "data": {
            "text/plain": [
              "<Figure size 640x480 with 1 Axes>"
            ],
            "image/png": "[encoded data removed]"
          },
          "metadata": {}
        }
      ]
    },
    {
      "cell_type": "code",
      "source": [
        "## Loss\n",
        "plt.plot(train_losses,label=\"Training Loss\")\n",
        "plt.plot(test_losses,label=\"Testing Loss\")\n",
        "plt.legend()\n",
        "plt.title(\"Loss over Epochs\")\n",
        "plt.savefig(\"Loss\")"
      ],
      "metadata": {
        "colab": {
          "base_uri": "https://localhost:8080/",
          "height": 452
        },
        "id": "h4MFRzUvezdD",
        "outputId": "0d4f1d98-7d6a-4ff0-9f59-23818af5104b"
      },
      "execution_count": 19,
      "outputs": [
        {
          "output_type": "display_data",
          "data": {
            "text/plain": [
              "<Figure size 640x480 with 1 Axes>"
            ],
            "image/png": "[encoded data removed]"
          },
          "metadata": {}
        }
      ]
    },
    {
      "cell_type": "markdown",
      "source": [
        "## Model Summary"
      ],
      "metadata": {
        "id": "bFutxLbvZ2Qq"
      }
    },
    {
      "cell_type": "code",
      "source": [
        "summary(model,input_size=(1,28,28))"
      ],
      "metadata": {
        "colab": {
          "base_uri": "https://localhost:8080/"
        },
        "id": "W3HIpmw1PQki",
        "outputId": "156187ba-8c02-4514-d3f1-5c5b2bc58e48"
      },
      "execution_count": 20,
      "outputs": [
        {
          "output_type": "stream",
          "name": "stdout",
          "text": [
            "----------------------------------------------------------------\n",
            "        Layer (type)               Output Shape         Param #\n",
            "================================================================\n",
            "            Conv2d-1           [-1, 32, 26, 26]             320\n",
            "         MaxPool2d-2           [-1, 32, 13, 13]               0\n",
            "            Conv2d-3           [-1, 64, 11, 11]          18,496\n",
            "         MaxPool2d-4             [-1, 64, 5, 5]               0\n",
            "            Linear-5                  [-1, 128]         204,928\n",
            "            Linear-6                   [-1, 10]           1,290\n",
            "================================================================\n",
            "Total params: 225,034\n",
            "Trainable params: 225,034\n",
            "Non-trainable params: 0\n",
            "----------------------------------------------------------------\n",
            "Input size (MB): 0.00\n",
            "Forward/backward pass size (MB): 0.28\n",
            "Params size (MB): 0.86\n",
            "Estimated Total Size (MB): 1.14\n",
            "----------------------------------------------------------------\n"
          ]
        }
      ]
    },
    {
      "cell_type": "code",
      "source": [
        "x=test_data[0][0].reshape(1,1,28,28)\n",
        "y=model(x)\n",
        "\n",
        "make_dot(y.mean(), params=dict(model.named_parameters())).render(\"Custom CNN Model\", format=\"png\")\n"
      ],
      "metadata": {
        "colab": {
          "base_uri": "https://localhost:8080/",
          "height": 35
        },
        "id": "DUfyxdXKUyH5",
        "outputId": "21bcd652-38ad-4354-c2b4-9030403721ce"
      },
      "execution_count": 21,
      "outputs": [
        {
          "output_type": "execute_result",
          "data": {
            "text/plain": [
              "'Custom CNN Model.png'"
            ],
            "application/vnd.google.colaboratory.intrinsic+json": {
              "type": "string"
            }
          },
          "metadata": {},
          "execution_count": 21
        }
      ]
    },
    {
      "cell_type": "code",
      "source": [
        "\n",
        "dummy_input = torch.randn(1, 1, 28, 28)\n",
        "torch.onnx.export(model, dummy_input, \"model.onnx\")"
      ],
      "metadata": {
        "id": "a3ENBbRFV1c4"
      },
      "execution_count": 22,
      "outputs": []
    },
    {
      "cell_type": "code",
      "source": [
        "parameters=model.named_parameters()"
      ],
      "metadata": {
        "id": "7jhIoAnKcn0b"
      },
      "execution_count": 23,
      "outputs": []
    },
    {
      "cell_type": "code",
      "source": [
        "for name, param in parameters:\n",
        "  print(name,param.size())"
      ],
      "metadata": {
        "colab": {
          "base_uri": "https://localhost:8080/"
        },
        "id": "w51vja0gcnwe",
        "outputId": "b5bd7527-7ce8-4d2b-a1aa-11eb339e6df9"
      },
      "execution_count": 24,
      "outputs": [
        {
          "output_type": "stream",
          "name": "stdout",
          "text": [
            "conv1.weight torch.Size([32, 1, 3, 3])\n",
            "conv1.bias torch.Size([32])\n",
            "conv2.weight torch.Size([64, 32, 3, 3])\n",
            "conv2.bias torch.Size([64])\n",
            "fc1.weight torch.Size([128, 1600])\n",
            "fc1.bias torch.Size([128])\n",
            "fc2.weight torch.Size([10, 128])\n",
            "fc2.bias torch.Size([10])\n"
          ]
        }
      ]
    },
    {
      "cell_type": "code",
      "source": [
        "train_accuracy"
      ],
      "metadata": {
        "colab": {
          "base_uri": "https://localhost:8080/"
        },
        "id": "pB01myoUpLmt",
        "outputId": "edd6712e-4dd0-4d11-d718-cab448f70596"
      },
      "execution_count": 25,
      "outputs": [
        {
          "output_type": "execute_result",
          "data": {
            "text/plain": [
              "[0.9501166666666667,\n",
              " 0.9824333333333334,\n",
              " 0.9863,\n",
              " 0.9884,\n",
              " 0.9899833333333333,\n",
              " 0.9904666666666667,\n",
              " 0.99155,\n",
              " 0.9917166666666667,\n",
              " 0.9933333333333333,\n",
              " 0.9933666666666666]"
            ]
          },
          "metadata": {},
          "execution_count": 25
        }
      ]
    },
    {
      "cell_type": "code",
      "source": [
        "test_accuracy"
      ],
      "metadata": {
        "colab": {
          "base_uri": "https://localhost:8080/"
        },
        "id": "LQ6MAkR4pM-v",
        "outputId": "57b6effa-db14-473f-9ff3-515036b23c42"
      },
      "execution_count": 26,
      "outputs": [
        {
          "output_type": "execute_result",
          "data": {
            "text/plain": [
              "[0.9839,\n",
              " 0.9859,\n",
              " 0.9827,\n",
              " 0.9882,\n",
              " 0.9866,\n",
              " 0.9842,\n",
              " 0.9844,\n",
              " 0.9872,\n",
              " 0.9851,\n",
              " 0.9862]"
            ]
          },
          "metadata": {},
          "execution_count": 26
        }
      ]
    },
    {
      "cell_type": "code",
      "source": [],
      "metadata": {
        "id": "4eDObnZZpPSJ"
      },
      "execution_count": null,
      "outputs": []
    }
  ]
}